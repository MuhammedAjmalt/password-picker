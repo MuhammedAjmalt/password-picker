{
 "cells": [
  {
   "cell_type": "code",
   "execution_count": null,
   "id": "9c533d95",
   "metadata": {},
   "outputs": [],
   "source": []
  },
  {
   "cell_type": "code",
   "execution_count": null,
   "id": "c7fc6690",
   "metadata": {},
   "outputs": [],
   "source": []
  },
  {
   "cell_type": "code",
   "execution_count": 5,
   "id": "7aa12b3d",
   "metadata": {},
   "outputs": [
    {
     "name": "stdout",
     "output_type": "stream",
     "text": [
      "password piccker\n",
      "password is : happybike56%%\n"
     ]
    }
   ],
   "source": [
    "import random\n",
    "sample_adj=['happy','beautiffull','naughty','lucky','precious','small','gracefull','handsome','standerd']\n",
    "sample_noun=['father','mother','girl','cat','laptop','bike']\n",
    "sample_num=list(range(0,100))\n",
    "sample_punct=['$','%','@','!','&','#','^','*']\n",
    "adj=random.choice(sample_adj)\n",
    "noun=random.choice(sample_noun)\n",
    "num=random.choice(sample_num)\n",
    "pun=random.choice(sample_punct)\n",
    "password=str(adj)+str(noun)+str(num)+str(pun)+str(pun)\n",
    "print(\"password piccker\")\n",
    "print(\"password is :\",password)"
   ]
  },
  {
   "cell_type": "code",
   "execution_count": null,
   "id": "d980a54b",
   "metadata": {},
   "outputs": [],
   "source": []
  },
  {
   "cell_type": "code",
   "execution_count": null,
   "id": "c9b69302",
   "metadata": {},
   "outputs": [],
   "source": []
  },
  {
   "cell_type": "code",
   "execution_count": null,
   "id": "b8eed611",
   "metadata": {},
   "outputs": [],
   "source": []
  }
 ],
 "metadata": {
  "kernelspec": {
   "display_name": "Python 3",
   "language": "python",
   "name": "python3"
  },
  "language_info": {
   "codemirror_mode": {
    "name": "ipython",
    "version": 3
   },
   "file_extension": ".py",
   "mimetype": "text/x-python",
   "name": "python",
   "nbconvert_exporter": "python",
   "pygments_lexer": "ipython3",
   "version": "3.8.8"
  }
 },
 "nbformat": 4,
 "nbformat_minor": 5
}
